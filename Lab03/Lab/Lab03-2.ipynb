{
 "cells": [
  {
   "cell_type": "markdown",
   "id": "14da633c",
   "metadata": {},
   "source": [
    "# Lab03-2-1"
   ]
  },
  {
   "cell_type": "code",
   "execution_count": 9,
   "id": "a8c4cb92",
   "metadata": {},
   "outputs": [],
   "source": [
    "import random\n",
    "import math\n",
    "import numpy as np\n",
    "pi = math.pi"
   ]
  },
  {
   "cell_type": "code",
   "execution_count": 46,
   "id": "92931816",
   "metadata": {},
   "outputs": [
    {
     "name": "stdout",
     "output_type": "stream",
     "text": [
      "The convergence criterion: \n",
      "0.001\n",
      "limitation number: \n",
      "20\n"
     ]
    }
   ],
   "source": [
    "cri = float(input('The convergence criterion: \\n'))\n",
    "num = int(input('limitation number: \\n'))"
   ]
  },
  {
   "cell_type": "code",
   "execution_count": 69,
   "id": "7c877c20",
   "metadata": {},
   "outputs": [
    {
     "name": "stdout",
     "output_type": "stream",
     "text": [
      "4.0\n",
      "2.0\n",
      "2.6666666666666665\n",
      "3.0\n",
      "3.2\n",
      "3.3333333333333335\n",
      "3.4285714285714284\n",
      "3.0\n",
      "3.111111111111111\n",
      "3.2\n",
      "3.272727272727273\n",
      "3.0\n",
      "3.076923076923077\n",
      "3.142857142857143\n",
      "Draws needed 14\n"
     ]
    }
   ],
   "source": [
    "n = 0 \n",
    "d = 0\n",
    "while d < num:\n",
    "    x = random.random()\n",
    "    y = random.random()\n",
    "    if x**2 + y**2 <= 1.0:\n",
    "        n += 1\n",
    "    d += 1\n",
    "    ratio = 4 * n * 1./d\n",
    "    print(ratio)\n",
    "    \n",
    "    if abs(ratio-pi) / pi <= cri:\n",
    "        print('Draws needed', d)\n",
    "        break"
   ]
  },
  {
   "cell_type": "markdown",
   "id": "aafd68ba",
   "metadata": {},
   "source": [
    "# Lab03-2-2"
   ]
  },
  {
   "cell_type": "code",
   "execution_count": 123,
   "id": "d68ee562",
   "metadata": {},
   "outputs": [
    {
     "name": "stdout",
     "output_type": "stream",
     "text": [
      "Draws needed 252\n",
      "[4.0, 2.0, 2.6666666666666665, 2.0, 1.6, 1.3333333333333333, 1.7142857142857142, 2.0, 2.2222222222222223, 2.4]\n",
      "Average of 10 simulations: 2.1936507936507934\n",
      "Standard Deviation of 10 simulations: 0.7046203203984166\n"
     ]
    }
   ],
   "source": [
    "n = 0 \n",
    "d = 0\n",
    "list = []\n",
    "while simulating:\n",
    "    x = random.random()\n",
    "    y = random.random()\n",
    "    if x**2 + y**2 <= 1.0:\n",
    "        n += 1\n",
    "    d += 1\n",
    "    ratio = 4 * n * 1./d\n",
    "    list.append(ratio)\n",
    "    if abs(ratio-pi) / pi <= 0.01:\n",
    "        print('Draws needed', d)\n",
    "        break\n",
    "print(list[:10])\n",
    "print('Average of 10 simulations:',np.mean(list[:10]))\n",
    "print('Standard Deviation of 10 simulations:',np.std(list[:10]))"
   ]
  },
  {
   "cell_type": "code",
   "execution_count": 124,
   "id": "c2196e9b",
   "metadata": {},
   "outputs": [
    {
     "name": "stdout",
     "output_type": "stream",
     "text": [
      "Draws needed 237786\n",
      "[4.0, 4.0, 4.0, 4.0, 4.0, 4.0, 4.0, 4.0, 4.0, 4.0]\n",
      "Average of 10 simulations: 4.0\n",
      "Standard Deviation of 10 simulations: 0.0\n"
     ]
    }
   ],
   "source": [
    "n = 0 \n",
    "d = 0\n",
    "list = []\n",
    "while simulating:\n",
    "    x = random.random()\n",
    "    y = random.random()\n",
    "    if x**2 + y**2 <= 1.0:\n",
    "        n += 1\n",
    "    d += 1\n",
    "    ratio = 4 * n * 1./d\n",
    "    list.append(ratio)\n",
    "    if abs(ratio-pi) / pi <= 0.001:\n",
    "        print('Draws needed', d)\n",
    "        break\n",
    "print(list[:10])\n",
    "print('Average of 10 simulations:',np.mean(list[:10]))\n",
    "print('Standard Deviation of 10 simulations:',np.std(list[:10]))"
   ]
  },
  {
   "cell_type": "code",
   "execution_count": 125,
   "id": "cba31fae",
   "metadata": {},
   "outputs": [
    {
     "name": "stdout",
     "output_type": "stream",
     "text": [
      "Draws needed 8651\n",
      "[4.0, 4.0, 2.6666666666666665, 3.0, 3.2, 3.3333333333333335, 2.857142857142857, 3.0, 3.111111111111111, 2.8]\n",
      "Average of 10 simulations: 3.196825396825397\n",
      "Standard Deviation of 10 simulations: 0.44131323299274916\n"
     ]
    }
   ],
   "source": [
    "n = 0 \n",
    "d = 0\n",
    "list = []\n",
    "while simulating:\n",
    "    x = random.random()\n",
    "    y = random.random()\n",
    "    if x**2 + y**2 <= 1.0:\n",
    "        n += 1\n",
    "    d += 1\n",
    "    ratio = 4 * n * 1./d\n",
    "    list.append(ratio)\n",
    "    if abs(ratio-pi) / pi <= 0.0001:\n",
    "        print('Draws needed', d)\n",
    "        break\n",
    "print(list[:10])\n",
    "print('Average of 10 simulations:',np.mean(list[:10]))\n",
    "print('Standard Deviation of 10 simulations:',np.std(list[:10]))"
   ]
  },
  {
   "cell_type": "code",
   "execution_count": 126,
   "id": "757de074",
   "metadata": {},
   "outputs": [
    {
     "name": "stdout",
     "output_type": "stream",
     "text": [
      "Draws needed 2712\n",
      "[4.0, 4.0, 2.6666666666666665, 3.0, 3.2, 3.3333333333333335, 3.4285714285714284, 3.5, 3.111111111111111, 3.2]\n",
      "Average of 10 simulations: 3.343968253968254\n",
      "Standard Deviation of 10 simulations: 0.395613419039677\n"
     ]
    }
   ],
   "source": [
    "n = 0 \n",
    "d = 0\n",
    "list = []\n",
    "while simulating:\n",
    "    x = random.random()\n",
    "    y = random.random()\n",
    "    if x**2 + y**2 <= 1.0:\n",
    "        n += 1\n",
    "    d += 1\n",
    "    ratio = 4 * n * 1./d\n",
    "    list.append(ratio)\n",
    "    if abs(ratio-pi) / pi <= 0.00001:\n",
    "        print('Draws needed', d)\n",
    "        break\n",
    "print(list[:10])\n",
    "print('Average of 10 simulations:',np.mean(list[:10]))\n",
    "print('Standard Deviation of 10 simulations:',np.std(list[:10]))"
   ]
  }
 ],
 "metadata": {
  "kernelspec": {
   "display_name": "Python 3 (ipykernel)",
   "language": "python",
   "name": "python3"
  },
  "language_info": {
   "codemirror_mode": {
    "name": "ipython",
    "version": 3
   },
   "file_extension": ".py",
   "mimetype": "text/x-python",
   "name": "python",
   "nbconvert_exporter": "python",
   "pygments_lexer": "ipython3",
   "version": "3.8.8"
  }
 },
 "nbformat": 4,
 "nbformat_minor": 5
}
