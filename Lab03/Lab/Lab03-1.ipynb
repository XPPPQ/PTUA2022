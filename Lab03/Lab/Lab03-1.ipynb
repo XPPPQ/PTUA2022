{
 "cells": [
  {
   "cell_type": "markdown",
   "id": "92a1fc09",
   "metadata": {},
   "source": [
    "# Exercise of 1-2 of chapter 2"
   ]
  },
  {
   "cell_type": "code",
   "execution_count": 51,
   "id": "8ec59aba",
   "metadata": {},
   "outputs": [
    {
     "ename": "SyntaxError",
     "evalue": "cannot assign to literal (Temp/ipykernel_66820/3090476294.py, line 1)",
     "output_type": "error",
     "traceback": [
      "\u001b[1;36m  File \u001b[1;32m\"C:\\Users\\ASUS\\AppData\\Local\\Temp/ipykernel_66820/3090476294.py\"\u001b[1;36m, line \u001b[1;32m1\u001b[0m\n\u001b[1;33m    42 = n\u001b[0m\n\u001b[1;37m    ^\u001b[0m\n\u001b[1;31mSyntaxError\u001b[0m\u001b[1;31m:\u001b[0m cannot assign to literal\n"
     ]
    }
   ],
   "source": [
    "42 = n"
   ]
  },
  {
   "cell_type": "code",
   "execution_count": 11,
   "id": "3ba3ec4b",
   "metadata": {},
   "outputs": [
    {
     "name": "stdout",
     "output_type": "stream",
     "text": [
      "1\n",
      "1\n"
     ]
    }
   ],
   "source": [
    "x = y = 1\n",
    "print(x)\n",
    "print(y)"
   ]
  },
  {
   "cell_type": "code",
   "execution_count": 14,
   "id": "3ce1e64e",
   "metadata": {},
   "outputs": [
    {
     "name": "stdout",
     "output_type": "stream",
     "text": [
      "2\n"
     ]
    }
   ],
   "source": [
    "x = 2;\n",
    "print(x)"
   ]
  },
  {
   "cell_type": "code",
   "execution_count": 19,
   "id": "7c45a480",
   "metadata": {},
   "outputs": [
    {
     "name": "stdout",
     "output_type": "stream",
     "text": [
      "2.0\n"
     ]
    }
   ],
   "source": [
    "x = 2.\n",
    "print(x)"
   ]
  },
  {
   "cell_type": "code",
   "execution_count": 28,
   "id": "2a9c1798",
   "metadata": {},
   "outputs": [
    {
     "name": "stdout",
     "output_type": "stream",
     "text": [
      "3.141592653589793\n",
      "523.5987755982989\n"
     ]
    }
   ],
   "source": [
    "import math\n",
    "print(math.pi)\n",
    "r = 5\n",
    "volume = 4/3 * math.pi * (r**3) \n",
    "print(volume)"
   ]
  },
  {
   "cell_type": "code",
   "execution_count": 1,
   "id": "3ee51677",
   "metadata": {},
   "outputs": [
    {
     "name": "stdout",
     "output_type": "stream",
     "text": [
      "wholesale is 945.45\n",
      "945.45\n"
     ]
    }
   ],
   "source": [
    "n = 60\n",
    "price = 24.95 * 0.6\n",
    "cost = price * 60 + 3 + 0.75 * (n - 1)\n",
    "print('wholesale is %.2f' %cost)\n",
    "print('{:.2f}'.format(cost))"
   ]
  },
  {
   "cell_type": "code",
   "execution_count": 49,
   "id": "981b7cce",
   "metadata": {},
   "outputs": [
    {
     "name": "stdout",
     "output_type": "stream",
     "text": [
      "07:30:06\n"
     ]
    }
   ],
   "source": [
    "orgintime_s =  6*3600 + 52 *60\n",
    "roadtime_s = (2*(8 * 60 + 15)) + (3 *(7 * 60 + 12))\n",
    "final_s = orgintime_s + roadtime_s\n",
    "m,s = divmod(final_s, 60)\n",
    "h,m = divmod(m, 60)\n",
    "print('%02d:%02d:%02d'%(h,m,s))"
   ]
  },
  {
   "cell_type": "markdown",
   "id": "fcd1f0c0",
   "metadata": {},
   "source": [
    "# Exercises 1-5 of chapter8"
   ]
  },
  {
   "cell_type": "markdown",
   "id": "4c49120a",
   "metadata": {},
   "source": [
    "## Exercise 1"
   ]
  },
  {
   "cell_type": "code",
   "execution_count": 5,
   "id": "95d47fb6",
   "metadata": {},
   "outputs": [
    {
     "name": "stdout",
     "output_type": "stream",
     "text": [
      "Banana\n",
      "banana\n"
     ]
    }
   ],
   "source": [
    "print(str.capitalize('banana'))\n",
    "print(str.casefold('BaNana'))"
   ]
  },
  {
   "cell_type": "code",
   "execution_count": 28,
   "id": "bf99b1bd",
   "metadata": {},
   "outputs": [
    {
     "name": "stdout",
     "output_type": "stream",
     "text": [
      "apple and banana\n",
      "2\n",
      "b'IT\\xe5\\x88\\x86\\xe6\\x9e\\x90'\n"
     ]
    }
   ],
   "source": [
    "str = 'apple and banana'\n",
    "print(str.center(10,'s'))\n",
    "print(str.count('p',0,4))\n",
    "print('IT分析'.encode('UTF-8','strict'))"
   ]
  },
  {
   "cell_type": "markdown",
   "id": "bc215b40",
   "metadata": {},
   "source": [
    "## Exercise 2"
   ]
  },
  {
   "cell_type": "code",
   "execution_count": 32,
   "id": "a8d7b81f",
   "metadata": {},
   "outputs": [
    {
     "name": "stdout",
     "output_type": "stream",
     "text": [
      "3\n"
     ]
    }
   ],
   "source": [
    "print('banana'.count('a',0,))"
   ]
  },
  {
   "cell_type": "markdown",
   "id": "ea107313",
   "metadata": {},
   "source": [
    "## Exercise 3"
   ]
  },
  {
   "cell_type": "code",
   "execution_count": 62,
   "id": "e30627d6",
   "metadata": {},
   "outputs": [
    {
     "data": {
      "text/plain": [
       "True"
      ]
     },
     "execution_count": 62,
     "metadata": {},
     "output_type": "execute_result"
    }
   ],
   "source": [
    "def is_palindrome(word):\n",
    "    if word == word[:: -1]:\n",
    "        return True\n",
    "    return False\n",
    "    \n",
    "is_palindrome('aba')"
   ]
  },
  {
   "cell_type": "markdown",
   "id": "1c5c07d2",
   "metadata": {},
   "source": [
    "## Exercise 4"
   ]
  },
  {
   "cell_type": "code",
   "execution_count": 50,
   "id": "d6247cb2",
   "metadata": {},
   "outputs": [
    {
     "data": {
      "text/plain": [
       "False"
      ]
     },
     "execution_count": 50,
     "metadata": {},
     "output_type": "execute_result"
    }
   ],
   "source": [
    "# The first letter is uppercase?\n",
    "def any_lowercase1(s):\n",
    "    for c in s:\n",
    "        if c.islower():\n",
    "            return True\n",
    "        else:\n",
    "            return False\n",
    "any_lowercase1('Apple')"
   ]
  },
  {
   "cell_type": "code",
   "execution_count": 53,
   "id": "610fedad",
   "metadata": {},
   "outputs": [
    {
     "data": {
      "text/plain": [
       "'True'"
      ]
     },
     "execution_count": 53,
     "metadata": {},
     "output_type": "execute_result"
    }
   ],
   "source": [
    "# Always True, because 'c' is lowercase\n",
    "def any_lowercase2(s):\n",
    "    for c in s:\n",
    "        if 'c'.islower():\n",
    "            return 'True'\n",
    "        else:\n",
    "            return 'False'\n",
    "any_lowercase2('Apple')"
   ]
  },
  {
   "cell_type": "code",
   "execution_count": 3,
   "id": "e481aaf1",
   "metadata": {},
   "outputs": [
    {
     "data": {
      "text/plain": [
       "True"
      ]
     },
     "execution_count": 3,
     "metadata": {},
     "output_type": "execute_result"
    }
   ],
   "source": [
    "# The last letter is lowercase?\n",
    "def any_lowercase3(s):\n",
    "    for c in s:\n",
    "        flag = c.islower()\n",
    "    return flag\n",
    "any_lowercase3('apple')"
   ]
  },
  {
   "cell_type": "code",
   "execution_count": 5,
   "id": "1835cdde",
   "metadata": {},
   "outputs": [
    {
     "data": {
      "text/plain": [
       "True"
      ]
     },
     "execution_count": 5,
     "metadata": {},
     "output_type": "execute_result"
    }
   ],
   "source": [
    "# Return True as long as there have lowercase\n",
    "def any_lowercase4(s):\n",
    "    flag = False\n",
    "    for c in s:\n",
    "        flag = flag or c.islower()\n",
    "    return flag\n",
    "any_lowercase4('APpLE')"
   ]
  },
  {
   "cell_type": "code",
   "execution_count": 8,
   "id": "8b201742",
   "metadata": {},
   "outputs": [
    {
     "data": {
      "text/plain": [
       "False"
      ]
     },
     "execution_count": 8,
     "metadata": {},
     "output_type": "execute_result"
    }
   ],
   "source": [
    "# Check if all letters are lowercase\n",
    "def any_lowercase5(s):\n",
    "    for c in s:\n",
    "        if not c.islower():\n",
    "            return False\n",
    "    return True\n",
    "any_lowercase5('apple')"
   ]
  },
  {
   "cell_type": "markdown",
   "id": "fa8c7a35",
   "metadata": {},
   "source": [
    "## Exercise 5"
   ]
  },
  {
   "cell_type": "code",
   "execution_count": 37,
   "id": "d23be052",
   "metadata": {},
   "outputs": [
    {
     "name": "stdout",
     "output_type": "stream",
     "text": [
      "Jolly\n",
      "qjyyh\n"
     ]
    }
   ],
   "source": [
    "def rotate_letter(letter,n):\n",
    "    if letter.isupper():\n",
    "        start = ord('A')\n",
    "    elif letter.islower():\n",
    "        start = ord('a')\n",
    "    else:\n",
    "        return letter\n",
    "    \n",
    "    c = ord(letter) - start\n",
    "    i = (c + n) % 26 + start\n",
    "    return chr(i)\n",
    "\n",
    "def rotate_word(word,n):\n",
    "    res = ''\n",
    "    for letter in word:\n",
    "        res += rotate_letter(letter,n)\n",
    "    return res\n",
    "\n",
    "print(rotate_word('Cheer',7))\n",
    "print(rotate_word('happy',9))"
   ]
  }
 ],
 "metadata": {
  "kernelspec": {
   "display_name": "Python 3 (ipykernel)",
   "language": "python",
   "name": "python3"
  },
  "language_info": {
   "codemirror_mode": {
    "name": "ipython",
    "version": 3
   },
   "file_extension": ".py",
   "mimetype": "text/x-python",
   "name": "python",
   "nbconvert_exporter": "python",
   "pygments_lexer": "ipython3",
   "version": "3.8.8"
  }
 },
 "nbformat": 4,
 "nbformat_minor": 5
}
